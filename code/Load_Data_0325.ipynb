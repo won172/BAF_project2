{
 "cells": [
  {
   "cell_type": "markdown",
   "metadata": {},
   "source": [
    "# Loading Dataset\n",
    "2025.03.25 현민영\n",
    "- 기간 : 2024-01-01 ~ 2025-02-28\n",
    "- 종목\n",
    "    - \"삼성전자\": \"005930.KS\",\n",
    "    - \"SK하이닉스\": \"000660.KS\",\n",
    "    - \"네이버\": \"035420.KS\",\n",
    "    - \"셀트리온\": \"068270.KS\",\n",
    "    - \"LG디스플레이\": \"034220.KS\"\n",
    "\n",
    "1. 주식 데이터\n",
    "- yfinance의 주가 데이터셋\n",
    "- stock_data\n",
    "\n",
    "2. merge_Close\n",
    "- 5개 종목의 종가 데이터셋\n",
    "\n",
    "3. 지표 추가된 데이터\n",
    "- 1에 여러가지 기술적 지표가 추가된 데이터셋\n",
    "- with_indicators"
   ]
  },
  {
   "cell_type": "code",
   "execution_count": 1,
   "metadata": {},
   "outputs": [
    {
     "ename": "ModuleNotFoundError",
     "evalue": "No module named 'ta'",
     "output_type": "error",
     "traceback": [
      "\u001b[1;31m---------------------------------------------------------------------------\u001b[0m",
      "\u001b[1;31mModuleNotFoundError\u001b[0m                       Traceback (most recent call last)",
      "Cell \u001b[1;32mIn[1], line 9\u001b[0m\n\u001b[0;32m      7\u001b[0m \u001b[38;5;66;03m# 금융데이터 관련 라이브러리\u001b[39;00m\n\u001b[0;32m      8\u001b[0m \u001b[38;5;28;01mimport\u001b[39;00m \u001b[38;5;21;01myfinance\u001b[39;00m \u001b[38;5;28;01mas\u001b[39;00m \u001b[38;5;21;01myf\u001b[39;00m\n\u001b[1;32m----> 9\u001b[0m \u001b[38;5;28;01mimport\u001b[39;00m \u001b[38;5;21;01mta\u001b[39;00m                   \u001b[38;5;66;03m#금융데이터 기술 분석\u001b[39;00m\n\u001b[0;32m     10\u001b[0m \u001b[38;5;28;01mimport\u001b[39;00m \u001b[38;5;21;01mmplfinance\u001b[39;00m \u001b[38;5;28;01mas\u001b[39;00m \u001b[38;5;21;01mmpf\u001b[39;00m\n",
      "\u001b[1;31mModuleNotFoundError\u001b[0m: No module named 'ta'"
     ]
    }
   ],
   "source": [
    "import numpy as np\n",
    "import pandas as pd\n",
    "import matplotlib.pyplot as plt\n",
    "import seaborn as sns\n",
    "sns.set_theme(style=\"whitegrid\")\n",
    "\n",
    "# 금융데이터 관련 라이브러리\n",
    "import yfinance as yf\n",
    "import ta                   #금융데이터 기술 분석\n",
    "import mplfinance as mpf"
   ]
  },
  {
   "cell_type": "markdown",
   "metadata": {},
   "source": [
    "## 1. 주식 데이터\n",
    "- column (가격+거래량) : 'Close', 'High', 'Low', 'Open', 'Volume'\n",
    "\n",
    "- row (날짜) : '2024-01-01' ~ '2025-02-28'   \n",
    "    - 휴장일 데이터 없음.\n",
    "\n",
    "- csv명 : '삼성전자.csv', 'SK하이닉스.csv', '네이버.csv', '셀트리온.csv,' 'LG디스플레이.csv'"
   ]
  },
  {
   "cell_type": "code",
   "execution_count": 3,
   "metadata": {},
   "outputs": [],
   "source": [
    "# 주식 데이터 csv 저장 함수\n",
    "def save_data(tickers, start, end):\n",
    "    for name, ticker in tickers.items():\n",
    "        try:\n",
    "            # 주식 데이터 다운로드\n",
    "            data = yf.download(ticker, start=start, end=end)\n",
    "            \n",
    "            # MultiIndex 제거 (오류 방지를 위한 티커 제거)\n",
    "            data.columns = data.columns.get_level_values(0)\n",
    "            \n",
    "            if not data.empty:\n",
    "                # CSV 파일로 저장\n",
    "                data.to_csv(f\"stock_data/{name}.csv\")\n",
    "                print(f\"{name} 데이터를 저장했습니다.\")\n",
    "            else:\n",
    "                print(f\"{name}에 대한 데이터가 없습니다.\")\n",
    "        except Exception as e:\n",
    "            print(f\"{name} ({ticker}) 데이터 가져오는 중 오류 발생: {e}\")\n"
   ]
  },
  {
   "cell_type": "code",
   "execution_count": 4,
   "metadata": {},
   "outputs": [
    {
     "name": "stdout",
     "output_type": "stream",
     "text": [
      "YF.download() has changed argument auto_adjust default to True\n"
     ]
    },
    {
     "name": "stderr",
     "output_type": "stream",
     "text": [
      "[*********************100%***********************]  1 of 1 completed\n"
     ]
    },
    {
     "name": "stdout",
     "output_type": "stream",
     "text": [
      "SamsungElectronics (005930.KS) 데이터 가져오는 중 오류 발생: Cannot save file into a non-existent directory: 'stock_data'\n"
     ]
    },
    {
     "name": "stderr",
     "output_type": "stream",
     "text": [
      "[*********************100%***********************]  1 of 1 completed\n"
     ]
    },
    {
     "name": "stdout",
     "output_type": "stream",
     "text": [
      "SKHynix (000660.KS) 데이터 가져오는 중 오류 발생: Cannot save file into a non-existent directory: 'stock_data'\n"
     ]
    },
    {
     "name": "stderr",
     "output_type": "stream",
     "text": [
      "[*********************100%***********************]  1 of 1 completed\n"
     ]
    },
    {
     "name": "stdout",
     "output_type": "stream",
     "text": [
      "Naver (035420.KS) 데이터 가져오는 중 오류 발생: Cannot save file into a non-existent directory: 'stock_data'\n"
     ]
    },
    {
     "name": "stderr",
     "output_type": "stream",
     "text": [
      "[*********************100%***********************]  1 of 1 completed\n"
     ]
    },
    {
     "name": "stdout",
     "output_type": "stream",
     "text": [
      "Celltrion (068270.KS) 데이터 가져오는 중 오류 발생: Cannot save file into a non-existent directory: 'stock_data'\n"
     ]
    },
    {
     "name": "stderr",
     "output_type": "stream",
     "text": [
      "[*********************100%***********************]  1 of 1 completed"
     ]
    },
    {
     "name": "stdout",
     "output_type": "stream",
     "text": [
      "LGDisplay (034220.KS) 데이터 가져오는 중 오류 발생: Cannot save file into a non-existent directory: 'stock_data'\n"
     ]
    },
    {
     "name": "stderr",
     "output_type": "stream",
     "text": [
      "\n"
     ]
    }
   ],
   "source": [
    "# 관심 종목 리스트\n",
    "tickers = {\n",
    "    \"SamsungElectronics\": \"005930.KS\",\n",
    "    \"SKHynix\": \"000660.KS\",\n",
    "    \"Naver\": \"035420.KS\",\n",
    "    \"Celltrion\": \"068270.KS\",\n",
    "    \"LGDisplay\": \"034220.KS\"\n",
    "}\n",
    "\n",
    "start_date = \"2024-01-01\"\n",
    "end_date = \"2025-03-01\"\n",
    "save_data(tickers, start_date, end_date)"
   ]
  },
  {
   "cell_type": "markdown",
   "metadata": {},
   "source": [
    "## 2. merge_Close.csv\n",
    "yfinance 라이브러리에서 다운로드한 주식 데이터 중에서 Close(종가)만 수집.\n",
    "- column (주식 종목) :'SamsungElectronics', 'SKHynix', 'Naver', 'Celltrion', 'LG Display'\n",
    "\n",
    "- row (날짜) : '2024-01-01' ~ '2025-02-28'"
   ]
  },
  {
   "cell_type": "code",
   "execution_count": 25,
   "metadata": {},
   "outputs": [
    {
     "name": "stdout",
     "output_type": "stream",
     "text": [
      "삼성전자 데이터:\n",
      "                    Close          High           Low          Open    Volume\n",
      "Date                                                                        \n",
      "2024-01-02  77916.601562  78112.371918  76546.209073  76546.209073  17142847\n",
      "2024-01-03  75371.585938  77133.519115  75371.585938  76839.863586  21753644\n",
      "2024-01-04  74980.054688  75665.251010  74490.628743  74490.628743  15324439 \n",
      "               Close     High      Low     Open    Volume\n",
      "Date                                                    \n",
      "2025-02-25  57200.0  57800.0  56500.0  56600.0  14625181\n",
      "2025-02-26  56600.0  57100.0  56100.0  57000.0  18117091\n",
      "2025-02-27  56300.0  57100.0  56200.0  56500.0  14975356\n"
     ]
    }
   ],
   "source": [
    "# 각 종목별로 CSV 파일 로드\n",
    "samsung = pd.read_csv(\"stock_data/SamsungElectronics.csv\", index_col=0, parse_dates=True)\n",
    "sk_hynix = pd.read_csv(\"stock_data/SKHynix.csv\", index_col=0, parse_dates=True)\n",
    "naver = pd.read_csv(\"stock_data/Naver.csv\", index_col=0, parse_dates=True)\n",
    "celltrion = pd.read_csv(\"stock_data/Celltrion.csv\", index_col=0, parse_dates=True)\n",
    "lg_display = pd.read_csv(\"stock_data/LGDisplay.csv\", index_col=0, parse_dates=True)\n",
    "\n",
    "print(\"삼성전자 데이터:\\n\", samsung.head(3), '\\n', samsung.tail(3))"
   ]
  },
  {
   "cell_type": "code",
   "execution_count": 26,
   "metadata": {},
   "outputs": [],
   "source": [
    "# 각 종목의 Close(종가)만 합친 df\n",
    "\n",
    "# 'Close' 열만 추출하여 각각의 데이터프레임에서 추출\n",
    "samsung_close = samsung[['Close']]\n",
    "sk_hynix_close = sk_hynix[['Close']]\n",
    "naver_close = naver[['Close']]\n",
    "celltrion_close = celltrion[['Close']]\n",
    "lg_display_close = lg_display[['Close']]\n",
    "\n",
    "# 데이터를 종목별로 합쳐 하나의 데이터프레임으로 만듬\n",
    "merged_df = pd.concat([samsung_close, sk_hynix_close, naver_close, celltrion_close, lg_display_close], axis=1)\n",
    "merged_df.columns = ['SamsungElectronics', 'SKHynix', 'Naver', 'Celltrion', 'LGDisplay'] # 열 이름 수정\n",
    "merged_df.head(3)\n",
    "\n",
    "merged_df.to_csv('stock_data/merge_Close.csv')"
   ]
  },
  {
   "cell_type": "markdown",
   "metadata": {},
   "source": [
    "## 3. 기술적 지표를 추가한 df\n",
    "- column (가격+거래량+기술적 지표) : \n",
    "    - 주식 가격&거래량 : 'Close', 'High', 'Low', 'Open', 'Volume'\n",
    "    - 추세 : 'EMA_5', 'EMA_20', 'SMA_5', 'SMA_20', 'MACD', 'MACD_Signal'\n",
    "    - 변동성 : 'BB_High', 'BB_Low', 'ATR'\n",
    "    - 모멘텀 : 'RSI', 'Stochastic_K', 'Stochastic_D'\n",
    "    - 거래량 : 'OBV', 'VWAP'\n",
    "    - 비율,,,? : 'High_Close_Ratio', 'Low_Close_Ratio', 'Close_Diff_Ratio', 'Close_LastClose_Ratio', 'Volume_LastVolume_Ratio'\n",
    "    /'Close_MA5_Ratio', 'Close_MA20_Ratio', 'Volume_MA5_Ratio', 'Volume_MA20_Ratio'\n",
    "\n",
    "\n",
    "- row (날짜) : '2024-01-01' ~ '2025-02-28'   \n",
    "    - 휴장일 데이터 없음."
   ]
  },
  {
   "cell_type": "code",
   "execution_count": 27,
   "metadata": {},
   "outputs": [],
   "source": [
    "# 학습데이터 지표 계산 함수\n",
    "def calculate_train_df (df):\n",
    "    \"\"\"\n",
    "    입력받은 DataFrame에 주요 기술적 지표를 계산하여 반환하는 함수.\n",
    "    DataFrame: OHLCV 데이터를 포함하는 DataFrame\n",
    "    반드시 'Open', 'High', 'Low', 'Close', 'Volume' 열을 포함해야 함.\n",
    "    \"\"\"\n",
    "    # 가격 관련 비율 지표\n",
    "    df['Open_Close_Ratio'] = df['Open'] / df['Close'].shift(1)\n",
    "    df['High_Close_Ratio'] = df['High'] / df['Close']\n",
    "    df['Low_Close_Ratio'] = df['Low'] / df['Close']\n",
    "    df['Close_Diff_Ratio'] = df['Close'].pct_change()\n",
    "    df['Close_LastClose_Ratio'] = df['Close'] / df['Close'].shift(1)\n",
    "    df['Volume_LastVolume_Ratio'] = df['Volume'] / df['Volume'].shift(1)\n",
    "\n",
    "    # 가격 이동평균 비율\n",
    "    df['Close_MA5_Ratio'] = df['Close'] / df['Close'].rolling(window=5).mean()\n",
    "    df['Close_MA20_Ratio'] = df['Close'] / df['Close'].rolling(window=20).mean()\n",
    "\n",
    "    # 거래량 이동평균 비율\n",
    "    df['Volume_MA5_Ratio'] = df['Volume'] / df['Volume'].rolling(window=5).mean()\n",
    "    df['Volume_MA20_Ratio'] = df['Volume'] / df['Volume'].rolling(window=20).mean()\n",
    "\n",
    "     # 이동평균 지표\n",
    "    df['EMA_5'] = ta.trend.ema_indicator(close=df['Close'], window=5)\n",
    "    df['EMA_20'] = ta.trend.ema_indicator(close=df['Close'], window=20)\n",
    "    df['SMA_5'] = ta.trend.sma_indicator(close=df['Close'], window=5)\n",
    "    df['SMA_20'] = ta.trend.sma_indicator(close=df['Close'], window=20)\n",
    "\n",
    "    # MACD\n",
    "    macd = ta.trend.MACD(close=df['Close'])\n",
    "    df['MACD'] = macd.macd()\n",
    "    df['MACD_Signal'] = macd.macd_signal()\n",
    "\n",
    "    # Bollinger Bands\n",
    "    bb = ta.volatility.BollingerBands(close=df['Close'], window=20, window_dev=2)\n",
    "    df['BB_High'] = bb.bollinger_hband()\n",
    "    df['BB_Low'] = bb.bollinger_lband()\n",
    "\n",
    "    # ATR (Average True Range)\n",
    "    df['ATR'] = ta.volatility.average_true_range(\n",
    "        high=df['High'], low=df['Low'], close=df['Close'], window=14\n",
    "    )\n",
    "\n",
    "    # RSI (Relative Strength Index)\n",
    "    df['RSI'] = ta.momentum.rsi(close=df['Close'], window=14)\n",
    "\n",
    "    # Stochastic Oscillator\n",
    "    stoch_k = ta.momentum.stoch(high=df['High'], low=df['Low'], close=df['Close'], window=14, smooth_window=3)\n",
    "    stoch_d = ta.momentum.stoch_signal(high=df['High'], low=df['Low'], close=df['Close'], window=14, smooth_window=3)\n",
    "    df['Stochastic_K'] = stoch_k\n",
    "    df['Stochastic_D'] = stoch_d\n",
    "\n",
    "    # OBV (On-Balance Volume)\n",
    "    df['OBV'] = ta.volume.on_balance_volume(close=df['Close'], volume=df['Volume'])\n",
    "\n",
    "    # VWAP (Volume Weighted Average Price)\n",
    "    df['VWAP'] = ta.volume.volume_weighted_average_price(\n",
    "        high=df['High'], low=df['Low'], close=df['Close'], volume=df['Volume']\n",
    "    )\n",
    "    \n",
    "    print(df.info())\n",
    "    return df"
   ]
  },
  {
   "cell_type": "code",
   "execution_count": 28,
   "metadata": {},
   "outputs": [
    {
     "name": "stdout",
     "output_type": "stream",
     "text": [
      "<class 'pandas.core.frame.DataFrame'>\n",
      "DatetimeIndex: 281 entries, 2024-01-02 to 2025-02-27\n",
      "Data columns (total 29 columns):\n",
      " #   Column                   Non-Null Count  Dtype  \n",
      "---  ------                   --------------  -----  \n",
      " 0   Close                    281 non-null    float64\n",
      " 1   High                     281 non-null    float64\n",
      " 2   Low                      281 non-null    float64\n",
      " 3   Open                     281 non-null    float64\n",
      " 4   Volume                   281 non-null    int64  \n",
      " 5   Open_Close_Ratio         280 non-null    float64\n",
      " 6   High_Close_Ratio         281 non-null    float64\n",
      " 7   Low_Close_Ratio          281 non-null    float64\n",
      " 8   Close_Diff_Ratio         280 non-null    float64\n",
      " 9   Close_LastClose_Ratio    280 non-null    float64\n",
      " 10  Volume_LastVolume_Ratio  280 non-null    float64\n",
      " 11  Close_MA5_Ratio          277 non-null    float64\n",
      " 12  Close_MA20_Ratio         262 non-null    float64\n",
      " 13  Volume_MA5_Ratio         277 non-null    float64\n",
      " 14  Volume_MA20_Ratio        262 non-null    float64\n",
      " 15  EMA_5                    277 non-null    float64\n",
      " 16  EMA_20                   262 non-null    float64\n",
      " 17  SMA_5                    277 non-null    float64\n",
      " 18  SMA_20                   262 non-null    float64\n",
      " 19  MACD                     256 non-null    float64\n",
      " 20  MACD_Signal              248 non-null    float64\n",
      " 21  BB_High                  262 non-null    float64\n",
      " 22  BB_Low                   262 non-null    float64\n",
      " 23  ATR                      281 non-null    float64\n",
      " 24  RSI                      268 non-null    float64\n",
      " 25  Stochastic_K             268 non-null    float64\n",
      " 26  Stochastic_D             266 non-null    float64\n",
      " 27  OBV                      281 non-null    int64  \n",
      " 28  VWAP                     268 non-null    float64\n",
      "dtypes: float64(27), int64(2)\n",
      "memory usage: 65.9 KB\n",
      "None\n"
     ]
    }
   ],
   "source": [
    "a = calculate_train_df(samsung)"
   ]
  },
  {
   "cell_type": "code",
   "execution_count": 29,
   "metadata": {},
   "outputs": [
    {
     "data": {
      "text/plain": [
       "MACD_Signal    33\n",
       "dtype: int64"
      ]
     },
     "execution_count": 29,
     "metadata": {},
     "output_type": "execute_result"
    }
   ],
   "source": [
    "samsung.isna().sum().sort_values().tail(1)\n",
    "# MACD Signal의 결측행 수가 최대 (33행) -> 앞의 33일 데이터가 필요"
   ]
  },
  {
   "cell_type": "code",
   "execution_count": 30,
   "metadata": {},
   "outputs": [
    {
     "name": "stderr",
     "output_type": "stream",
     "text": [
      "[*********************100%***********************]  1 of 1 completed"
     ]
    },
    {
     "name": "stdout",
     "output_type": "stream",
     "text": [
      "stock_data info\n",
      " ============================================\n",
      "(314, 5)\n"
     ]
    },
    {
     "name": "stderr",
     "output_type": "stream",
     "text": [
      "\n",
      "[*********************100%***********************]  1 of 1 completed\n",
      "[*********************100%***********************]  1 of 1 completed\n",
      "[*********************100%***********************]  1 of 1 completed\n",
      "[*********************100%***********************]  1 of 1 completed\n"
     ]
    },
    {
     "name": "stdout",
     "output_type": "stream",
     "text": [
      "(314, 5)\n",
      "(314, 5)\n",
      "(314, 5)\n",
      "(314, 5)\n",
      "<class 'pandas.core.frame.DataFrame'>\n",
      "DatetimeIndex: 314 entries, 2023-11-13 to 2025-02-27\n",
      "Data columns (total 29 columns):\n",
      " #   Column                   Non-Null Count  Dtype  \n",
      "---  ------                   --------------  -----  \n",
      " 0   Close                    314 non-null    float64\n",
      " 1   High                     314 non-null    float64\n",
      " 2   Low                      314 non-null    float64\n",
      " 3   Open                     314 non-null    float64\n",
      " 4   Volume                   314 non-null    int64  \n",
      " 5   Open_Close_Ratio         313 non-null    float64\n",
      " 6   High_Close_Ratio         314 non-null    float64\n",
      " 7   Low_Close_Ratio          314 non-null    float64\n",
      " 8   Close_Diff_Ratio         313 non-null    float64\n",
      " 9   Close_LastClose_Ratio    313 non-null    float64\n",
      " 10  Volume_LastVolume_Ratio  313 non-null    float64\n",
      " 11  Close_MA5_Ratio          310 non-null    float64\n",
      " 12  Close_MA20_Ratio         295 non-null    float64\n",
      " 13  Volume_MA5_Ratio         310 non-null    float64\n",
      " 14  Volume_MA20_Ratio        295 non-null    float64\n",
      " 15  EMA_5                    310 non-null    float64\n",
      " 16  EMA_20                   295 non-null    float64\n",
      " 17  SMA_5                    310 non-null    float64\n",
      " 18  SMA_20                   295 non-null    float64\n",
      " 19  MACD                     289 non-null    float64\n",
      " 20  MACD_Signal              281 non-null    float64\n",
      " 21  BB_High                  295 non-null    float64\n",
      " 22  BB_Low                   295 non-null    float64\n",
      " 23  ATR                      314 non-null    float64\n",
      " 24  RSI                      301 non-null    float64\n",
      " 25  Stochastic_K             301 non-null    float64\n",
      " 26  Stochastic_D             299 non-null    float64\n",
      " 27  OBV                      314 non-null    int64  \n",
      " 28  VWAP                     301 non-null    float64\n",
      "dtypes: float64(27), int64(2)\n",
      "memory usage: 73.6 KB\n",
      "None\n",
      "<class 'pandas.core.frame.DataFrame'>\n",
      "DatetimeIndex: 314 entries, 2023-11-13 to 2025-02-27\n",
      "Data columns (total 29 columns):\n",
      " #   Column                   Non-Null Count  Dtype  \n",
      "---  ------                   --------------  -----  \n",
      " 0   Close                    314 non-null    float64\n",
      " 1   High                     314 non-null    float64\n",
      " 2   Low                      314 non-null    float64\n",
      " 3   Open                     314 non-null    float64\n",
      " 4   Volume                   314 non-null    int64  \n",
      " 5   Open_Close_Ratio         313 non-null    float64\n",
      " 6   High_Close_Ratio         314 non-null    float64\n",
      " 7   Low_Close_Ratio          314 non-null    float64\n",
      " 8   Close_Diff_Ratio         313 non-null    float64\n",
      " 9   Close_LastClose_Ratio    313 non-null    float64\n",
      " 10  Volume_LastVolume_Ratio  313 non-null    float64\n",
      " 11  Close_MA5_Ratio          310 non-null    float64\n",
      " 12  Close_MA20_Ratio         295 non-null    float64\n",
      " 13  Volume_MA5_Ratio         310 non-null    float64\n",
      " 14  Volume_MA20_Ratio        295 non-null    float64\n",
      " 15  EMA_5                    310 non-null    float64\n",
      " 16  EMA_20                   295 non-null    float64\n",
      " 17  SMA_5                    310 non-null    float64\n",
      " 18  SMA_20                   295 non-null    float64\n",
      " 19  MACD                     289 non-null    float64\n",
      " 20  MACD_Signal              281 non-null    float64\n",
      " 21  BB_High                  295 non-null    float64\n",
      " 22  BB_Low                   295 non-null    float64\n",
      " 23  ATR                      314 non-null    float64\n",
      " 24  RSI                      301 non-null    float64\n",
      " 25  Stochastic_K             301 non-null    float64\n",
      " 26  Stochastic_D             299 non-null    float64\n",
      " 27  OBV                      314 non-null    int64  \n",
      " 28  VWAP                     301 non-null    float64\n",
      "dtypes: float64(27), int64(2)\n",
      "memory usage: 73.6 KB\n",
      "None\n",
      "<class 'pandas.core.frame.DataFrame'>\n",
      "DatetimeIndex: 314 entries, 2023-11-13 to 2025-02-27\n",
      "Data columns (total 29 columns):\n",
      " #   Column                   Non-Null Count  Dtype  \n",
      "---  ------                   --------------  -----  \n",
      " 0   Close                    314 non-null    float64\n",
      " 1   High                     314 non-null    float64\n",
      " 2   Low                      314 non-null    float64\n",
      " 3   Open                     314 non-null    float64\n",
      " 4   Volume                   314 non-null    int64  \n",
      " 5   Open_Close_Ratio         313 non-null    float64\n",
      " 6   High_Close_Ratio         314 non-null    float64\n",
      " 7   Low_Close_Ratio          314 non-null    float64\n",
      " 8   Close_Diff_Ratio         313 non-null    float64\n",
      " 9   Close_LastClose_Ratio    313 non-null    float64\n",
      " 10  Volume_LastVolume_Ratio  313 non-null    float64\n",
      " 11  Close_MA5_Ratio          310 non-null    float64\n",
      " 12  Close_MA20_Ratio         295 non-null    float64\n",
      " 13  Volume_MA5_Ratio         310 non-null    float64\n",
      " 14  Volume_MA20_Ratio        295 non-null    float64\n",
      " 15  EMA_5                    310 non-null    float64\n",
      " 16  EMA_20                   295 non-null    float64\n",
      " 17  SMA_5                    310 non-null    float64\n",
      " 18  SMA_20                   295 non-null    float64\n",
      " 19  MACD                     289 non-null    float64\n",
      " 20  MACD_Signal              281 non-null    float64\n",
      " 21  BB_High                  295 non-null    float64\n",
      " 22  BB_Low                   295 non-null    float64\n",
      " 23  ATR                      314 non-null    float64\n",
      " 24  RSI                      301 non-null    float64\n",
      " 25  Stochastic_K             301 non-null    float64\n",
      " 26  Stochastic_D             299 non-null    float64\n",
      " 27  OBV                      314 non-null    int64  \n",
      " 28  VWAP                     301 non-null    float64\n",
      "dtypes: float64(27), int64(2)\n",
      "memory usage: 73.6 KB\n",
      "None\n",
      "<class 'pandas.core.frame.DataFrame'>\n",
      "DatetimeIndex: 314 entries, 2023-11-13 to 2025-02-27\n",
      "Data columns (total 29 columns):\n",
      " #   Column                   Non-Null Count  Dtype  \n",
      "---  ------                   --------------  -----  \n",
      " 0   Close                    314 non-null    float64\n",
      " 1   High                     314 non-null    float64\n",
      " 2   Low                      314 non-null    float64\n",
      " 3   Open                     314 non-null    float64\n",
      " 4   Volume                   314 non-null    int64  \n",
      " 5   Open_Close_Ratio         313 non-null    float64\n",
      " 6   High_Close_Ratio         314 non-null    float64\n",
      " 7   Low_Close_Ratio          314 non-null    float64\n",
      " 8   Close_Diff_Ratio         313 non-null    float64\n",
      " 9   Close_LastClose_Ratio    313 non-null    float64\n",
      " 10  Volume_LastVolume_Ratio  313 non-null    float64\n",
      " 11  Close_MA5_Ratio          310 non-null    float64\n",
      " 12  Close_MA20_Ratio         295 non-null    float64\n",
      " 13  Volume_MA5_Ratio         310 non-null    float64\n",
      " 14  Volume_MA20_Ratio        295 non-null    float64\n",
      " 15  EMA_5                    310 non-null    float64\n",
      " 16  EMA_20                   295 non-null    float64\n",
      " 17  SMA_5                    310 non-null    float64\n",
      " 18  SMA_20                   295 non-null    float64\n",
      " 19  MACD                     289 non-null    float64\n",
      " 20  MACD_Signal              281 non-null    float64\n",
      " 21  BB_High                  295 non-null    float64\n",
      " 22  BB_Low                   295 non-null    float64\n",
      " 23  ATR                      314 non-null    float64\n",
      " 24  RSI                      301 non-null    float64\n",
      " 25  Stochastic_K             301 non-null    float64\n",
      " 26  Stochastic_D             299 non-null    float64\n",
      " 27  OBV                      314 non-null    int64  \n",
      " 28  VWAP                     301 non-null    float64\n",
      "dtypes: float64(27), int64(2)\n",
      "memory usage: 73.6 KB\n",
      "None\n",
      "<class 'pandas.core.frame.DataFrame'>\n",
      "DatetimeIndex: 314 entries, 2023-11-13 to 2025-02-27\n",
      "Data columns (total 29 columns):\n",
      " #   Column                   Non-Null Count  Dtype  \n",
      "---  ------                   --------------  -----  \n",
      " 0   Close                    314 non-null    float64\n",
      " 1   High                     314 non-null    float64\n",
      " 2   Low                      314 non-null    float64\n",
      " 3   Open                     314 non-null    float64\n",
      " 4   Volume                   314 non-null    int64  \n",
      " 5   Open_Close_Ratio         313 non-null    float64\n",
      " 6   High_Close_Ratio         314 non-null    float64\n",
      " 7   Low_Close_Ratio          314 non-null    float64\n",
      " 8   Close_Diff_Ratio         313 non-null    float64\n",
      " 9   Close_LastClose_Ratio    313 non-null    float64\n",
      " 10  Volume_LastVolume_Ratio  313 non-null    float64\n",
      " 11  Close_MA5_Ratio          310 non-null    float64\n",
      " 12  Close_MA20_Ratio         295 non-null    float64\n",
      " 13  Volume_MA5_Ratio         310 non-null    float64\n",
      " 14  Volume_MA20_Ratio        295 non-null    float64\n",
      " 15  EMA_5                    310 non-null    float64\n",
      " 16  EMA_20                   295 non-null    float64\n",
      " 17  SMA_5                    310 non-null    float64\n",
      " 18  SMA_20                   295 non-null    float64\n",
      " 19  MACD                     289 non-null    float64\n",
      " 20  MACD_Signal              281 non-null    float64\n",
      " 21  BB_High                  295 non-null    float64\n",
      " 22  BB_Low                   295 non-null    float64\n",
      " 23  ATR                      314 non-null    float64\n",
      " 24  RSI                      301 non-null    float64\n",
      " 25  Stochastic_K             301 non-null    float64\n",
      " 26  Stochastic_D             299 non-null    float64\n",
      " 27  OBV                      314 non-null    int64  \n",
      " 28  VWAP                     301 non-null    float64\n",
      "dtypes: float64(27), int64(2)\n",
      "memory usage: 73.6 KB\n",
      "None\n",
      "Empty DataFrame\n",
      "Columns: [Close, High, Low, Open, Volume, Open_Close_Ratio, High_Close_Ratio, Low_Close_Ratio, Close_Diff_Ratio, Close_LastClose_Ratio, Volume_LastVolume_Ratio, Close_MA5_Ratio, Close_MA20_Ratio, Volume_MA5_Ratio, Volume_MA20_Ratio, EMA_5, EMA_20, SMA_5, SMA_20, MACD, MACD_Signal, BB_High, BB_Low, ATR, RSI, Stochastic_K, Stochastic_D, OBV, VWAP]\n",
      "Index: []\n",
      "\n",
      "[0 rows x 29 columns]\n",
      "Price               Close           High            Low           Open  \\\n",
      "Date                                                                     \n",
      "2024-01-02  140837.562500  141233.173631  138167.187368  138167.187368   \n",
      "2024-01-03  135299.015625  139255.127193  135299.015625  138463.904879   \n",
      "\n",
      "Price        Volume  Open_Close_Ratio  High_Close_Ratio  Low_Close_Ratio  \\\n",
      "Date                                                                       \n",
      "2024-01-02  2147458          0.987279          1.002809         0.981039   \n",
      "2024-01-03  3257820          0.983146          1.029240         1.000000   \n",
      "\n",
      "Price       Close_Diff_Ratio  Close_LastClose_Ratio  ...         MACD  \\\n",
      "Date                                                 ...                \n",
      "2024-01-02          0.006360               1.006360  ...  2949.004652   \n",
      "2024-01-03         -0.039326               0.960674  ...  2574.557314   \n",
      "\n",
      "Price       MACD_Signal        BB_High         BB_Low          ATR        RSI  \\\n",
      "Date                                                                            \n",
      "2024-01-02  2400.164135  145275.593724  121391.277370  2903.808751  70.993756   \n",
      "2024-01-03  2435.042771  145470.357769  121639.827387  3092.004332  52.626172   \n",
      "\n",
      "Price       Stochastic_K  Stochastic_D       OBV           VWAP  \n",
      "Date                                                             \n",
      "2024-01-02     93.925866     88.908351  32101464  135617.626230  \n",
      "2024-01-03     51.765695     78.039336  28843644  136408.907601  \n",
      "\n",
      "[2 rows x 29 columns]\n",
      "Price          Close           High            Low           Open   Volume  \\\n",
      "Date                                                                         \n",
      "2025-02-26  201695.0  204675.714286  197323.285714  197720.714286  3849749   \n",
      "2025-02-27  199200.0  205000.000000  198100.000000  204500.000000  3993419   \n",
      "\n",
      "Price       Open_Close_Ratio  High_Close_Ratio  Low_Close_Ratio  \\\n",
      "Date                                                              \n",
      "2025-02-26          0.992519          1.014778         0.978325   \n",
      "2025-02-27          1.013907          1.029116         0.994478   \n",
      "\n",
      "Price       Close_Diff_Ratio  Close_LastClose_Ratio  ...         MACD  \\\n",
      "Date                                                 ...                \n",
      "2025-02-26          0.012469               1.012469  ...  2423.538318   \n",
      "2025-02-27         -0.012370               0.987630  ...  1788.941505   \n",
      "\n",
      "Price       MACD_Signal        BB_High         BB_Low          ATR        RSI  \\\n",
      "Date                                                                            \n",
      "2025-02-26  3669.015884  218889.496380  187799.153620  7622.835882  49.544426   \n",
      "2025-02-27  3293.001008  216044.673138  188606.048737  7571.204748  47.537215   \n",
      "\n",
      "Price       Stochastic_K  Stochastic_D       OBV           VWAP  \n",
      "Date                                                             \n",
      "2025-02-26     29.787245     32.133310  61563893  204684.216513  \n",
      "2025-02-27     19.101522     22.679223  57570474  204463.019480  \n",
      "\n",
      "[2 rows x 29 columns]\n"
     ]
    }
   ],
   "source": [
    "# 주식데이터 로드 함수\n",
    "def download_data (ticker, start, end):\n",
    "    df = yf.download(ticker, start, end)\n",
    "\n",
    "    # MultiIndex 제거 (오류 방지를 위한 티커 제거)\n",
    "    df.columns = df.columns.get_level_values(0)\n",
    "\n",
    "    print(df.shape)\n",
    "    \n",
    "    return df\n",
    "\n",
    "\n",
    "# 5개의 주식 종목 다운로드\n",
    "# 2024-01-01보다 앞 33일 데이터 다운로드\n",
    "print('stock_data info\\n ============================================')\n",
    "samsung2 = download_data('005930.KS','2023-11-11', '2025-02-28')\n",
    "sk_hynix2 = download_data('000660.KS','2023-11-11', '2025-02-28')\n",
    "naver2 = download_data('000660.KS','2023-11-11', '2025-02-28')\n",
    "celltrion2 = download_data('000660.KS','2023-11-11', '2025-02-28')\n",
    "lg_display2 = download_data('000660.KS','2023-11-11', '2025-02-28')\n",
    "\n",
    "# 기술적 지표 계산\n",
    "calculate_train_df(samsung2)\n",
    "calculate_train_df(sk_hynix2)\n",
    "calculate_train_df(naver2)\n",
    "calculate_train_df(celltrion2)\n",
    "calculate_train_df(lg_display2)\n",
    "\n",
    "# 결측치 제거\n",
    "samsung2.dropna(inplace=True)\n",
    "sk_hynix2.dropna(inplace=True)\n",
    "naver2.dropna(inplace=True)\n",
    "celltrion2.dropna(inplace=True)\n",
    "lg_display2.dropna(inplace=True)\n",
    "\n",
    "# 확인\n",
    "print(naver2[naver2.isna().any(axis=True)])\n",
    "print(naver2.head(2))\n",
    "print(naver2.tail(2))"
   ]
  },
  {
   "cell_type": "code",
   "execution_count": 31,
   "metadata": {},
   "outputs": [],
   "source": [
    "# csv로 저장\n",
    "samsung2.to_csv(\"with_indicators_data/SamsungElectronics_indicators.csv\")\n",
    "sk_hynix2.to_csv(\"with_indicators_data/SKHynix_indicators.csv\")\n",
    "naver2.to_csv(\"with_indicators_data/Naver_indicators.csv\")\n",
    "celltrion2.to_csv(\"with_indicators_data/Celltrion_indicators.csv\")\n",
    "lg_display2.to_csv(\"with_indicators_data/LGDisplay_indicators.csv\")"
   ]
  }
 ],
 "metadata": {
  "kernelspec": {
   "display_name": "BAF_kernel",
   "language": "python",
   "name": "baf"
  },
  "language_info": {
   "codemirror_mode": {
    "name": "ipython",
    "version": 3
   },
   "file_extension": ".py",
   "mimetype": "text/x-python",
   "name": "python",
   "nbconvert_exporter": "python",
   "pygments_lexer": "ipython3",
   "version": "3.12.4"
  }
 },
 "nbformat": 4,
 "nbformat_minor": 2
}
